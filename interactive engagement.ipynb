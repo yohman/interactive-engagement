{
 "cells": [
  {
   "cell_type": "markdown",
   "id": "6c76c1d4-b7fd-469e-a2a9-a048e3e29686",
   "metadata": {},
   "source": [
    "## Install the geocoder"
   ]
  },
  {
   "cell_type": "code",
   "execution_count": null,
   "id": "cbbb522d-ebbf-4003-b58e-318e6ff99e0b",
   "metadata": {
    "tags": []
   },
   "outputs": [],
   "source": [
    "!pip install geocoder\n"
   ]
  },
  {
   "cell_type": "markdown",
   "id": "85d70937-007f-4b28-a706-9b325a38a563",
   "metadata": {},
   "source": [
    "## Get the survey data\n",
    "\n",
    "- [survey](https://docs.google.com/forms/d/1oF7us4ASuFpF6iOhn4g5MnXf4Z8E5EPaIe2mMdPw_cM/edit)\n",
    "- [data](https://docs.google.com/spreadsheets/d/1qPtvXZJ-IoNXdbVcPxr4buVLUONGsYS7-xNGqPFP144/edit#gid=696092516)\n"
   ]
  },
  {
   "cell_type": "code",
   "execution_count": null,
   "id": "d5aa35aa-1af2-44b7-a391-a31fc49b66a9",
   "metadata": {},
   "outputs": [],
   "source": [
    "import pandas as pd"
   ]
  },
  {
   "cell_type": "code",
   "execution_count": null,
   "id": "ffc2cfc1-9e01-4197-bb24-4ba485315b61",
   "metadata": {},
   "outputs": [],
   "source": [
    "df = pd.read_csv('https://docs.google.com/spreadsheets/d/e/2PACX-1vSg8WVXVb47Tri6-JLpYZ-rxXUr3iX5HRD23rzK5XmABGpQI3jfSZk9btVTiguQZIgIWAmecSjbXvUM/pub?gid=696092516&single=true&output=csv')\n",
    "                 "
   ]
  },
  {
   "cell_type": "code",
   "execution_count": null,
   "id": "56c35f6b-53f0-4d01-aca6-a3edf787a473",
   "metadata": {},
   "outputs": [],
   "source": [
    "df"
   ]
  },
  {
   "cell_type": "markdown",
   "id": "d74762dc-83b8-4806-a1d2-357d9e415a77",
   "metadata": {},
   "source": [
    "## Rename columns"
   ]
  },
  {
   "cell_type": "code",
   "execution_count": null,
   "id": "796b15fc-1199-4c97-b58c-ef5c9a02d17a",
   "metadata": {},
   "outputs": [],
   "source": [
    "df.columns=['timestamp','zip','work','email']"
   ]
  },
  {
   "cell_type": "code",
   "execution_count": null,
   "id": "d160fdc4-2950-4aac-aa1b-a890ccb7cf4c",
   "metadata": {},
   "outputs": [],
   "source": [
    "df"
   ]
  },
  {
   "cell_type": "markdown",
   "id": "615769be-dba4-41b0-a507-6bac287e2d5b",
   "metadata": {},
   "source": [
    "## Geocode the zipcodes"
   ]
  },
  {
   "cell_type": "code",
   "execution_count": null,
   "id": "4b3d7a0c-e675-432d-8128-ad7d1e09bcf5",
   "metadata": {},
   "outputs": [],
   "source": [
    "import geocoder"
   ]
  },
  {
   "cell_type": "code",
   "execution_count": null,
   "id": "77f08f47-a04a-4c21-bf89-bf956f94f050",
   "metadata": {},
   "outputs": [],
   "source": [
    "df['lat'] = ''\n",
    "df['lon'] = ''"
   ]
  },
  {
   "cell_type": "code",
   "execution_count": null,
   "id": "97cb25e6-a0d0-444e-a17e-fdb913ecb2d1",
   "metadata": {},
   "outputs": [],
   "source": [
    "for index, row in df.iterrows():\n",
    "    g = geocoder.mapbox(row.zip,key='pk.eyJ1IjoiY2h3b2lwcm9qZWN0IiwiYSI6ImNrdTRjZXkwaTRwaWwycXBtY290MjA5d3gifQ.iyENw-MBBY3_9tMPv7frFg')\n",
    "    print(g.latlng)\n",
    "    df.loc[index,'lat'] = g.latlng[0]\n",
    "    df.loc[index,'lon'] = g.latlng[1]\n",
    "    "
   ]
  },
  {
   "cell_type": "code",
   "execution_count": null,
   "id": "5bacf7c7-bcf8-4ac7-90e0-ea4f3221e6ae",
   "metadata": {},
   "outputs": [],
   "source": [
    "df"
   ]
  },
  {
   "cell_type": "markdown",
   "id": "940cab85-ba3a-4e62-b57b-adf1e361d340",
   "metadata": {
    "slideshow": {
     "slide_type": "slide"
    },
    "tags": []
   },
   "source": [
    "### Get average lat/lon's"
   ]
  },
  {
   "cell_type": "code",
   "execution_count": null,
   "id": "5c7c1765-dfce-4fde-8339-e6b0d5f91c4a",
   "metadata": {
    "slideshow": {
     "slide_type": "fragment"
    }
   },
   "outputs": [],
   "source": [
    "# average latitude\n",
    "latitude = df.lat.mean()\n",
    "latitude"
   ]
  },
  {
   "cell_type": "code",
   "execution_count": null,
   "id": "f16a098c-0015-4bb9-a0c6-2a730d5b6b1b",
   "metadata": {
    "slideshow": {
     "slide_type": "fragment"
    }
   },
   "outputs": [],
   "source": [
    "# average longitude\n",
    "longitude = df.lon.mean()\n",
    "longitude"
   ]
  },
  {
   "cell_type": "markdown",
   "id": "55727783-9edb-4130-93fa-b635c07363e3",
   "metadata": {},
   "source": [
    "## Map it!"
   ]
  },
  {
   "cell_type": "code",
   "execution_count": null,
   "id": "b8326ce5-02c4-4c99-adb5-6dfc92101306",
   "metadata": {},
   "outputs": [],
   "source": [
    "import folium"
   ]
  },
  {
   "cell_type": "code",
   "execution_count": null,
   "id": "7e1b767d-3430-4408-b2d2-70aeff087fa4",
   "metadata": {},
   "outputs": [],
   "source": [
    "from folium.plugins import FloatImage\n",
    "\n",
    "# image_file = 'image.PNG'\n",
    "\n",
    "# FloatImage(image_file, bottom=0, left=86).add_to(mymap)"
   ]
  },
  {
   "cell_type": "code",
   "execution_count": null,
   "id": "d1362e53-c95b-4a73-96f9-ec5cd1a49e25",
   "metadata": {},
   "outputs": [],
   "source": [
    "# map setup\n",
    "m = folium.Map(location = [34.0703726,-118.4453799], tiles=\"Stamen Terrain\", zoom_start=10)\n",
    "\n",
    "# add radius circles around ucla\n",
    "radii = [40,30,20,10]\n",
    "for radius in radii:\n",
    "    folium.Circle(\n",
    "        popup=str(radius)+\" km radius from UCLA\",\n",
    "        tooltip=str(radius)+\" km radius from UCLA\",\n",
    "        radius=radius*1000,\n",
    "        location=[34.0703726,-118.4453799],\n",
    "        color=\"crimson\",\n",
    "        fill=True,\n",
    "        opacity=0.3,\n",
    "        fill_opacity=0.05\n",
    "    ).add_to(m)\n",
    "\n",
    "# add markers with tooltips colored by desired work mode\n",
    "for index, row in df.iterrows():\n",
    "    tooltip = 'I live in zipcode '+str(row.zip)+' and want to work '+row.work\n",
    "    # color\n",
    "    if row.work == '100% remote':\n",
    "        color = 'red'\n",
    "    elif row.work == 'hybrid':\n",
    "        color = 'darkblue'\n",
    "    else:\n",
    "        color = 'green'\n",
    "    folium.Marker([row.lat, row.lon], \n",
    "                  popup=row.work, \n",
    "                  tooltip=tooltip,\n",
    "                  icon=folium.Icon(color=color,icon='user'),\n",
    "                 ).add_to(m)\n",
    "    \n",
    "FloatImage('https://raw.githubusercontent.com/yohman/interactive-engagement/main/legend3.png',bottom=3,left=2).add_to(m)\n",
    "# output the map\n",
    "m"
   ]
  },
  {
   "cell_type": "code",
   "execution_count": null,
   "id": "8b1b0140-2d53-4960-88d2-1a122652c18b",
   "metadata": {},
   "outputs": [],
   "source": [
    "# save the interactive maps as an html file\n",
    "m.save('index.html')"
   ]
  },
  {
   "cell_type": "code",
   "execution_count": null,
   "id": "6a7323d1-9d30-406b-93ad-22d63392cf34",
   "metadata": {},
   "outputs": [],
   "source": []
  }
 ],
 "metadata": {
  "kernelspec": {
   "display_name": "Python 3 (ipykernel)",
   "language": "python",
   "name": "python3"
  },
  "language_info": {
   "codemirror_mode": {
    "name": "ipython",
    "version": 3
   },
   "file_extension": ".py",
   "mimetype": "text/x-python",
   "name": "python",
   "nbconvert_exporter": "python",
   "pygments_lexer": "ipython3",
   "version": "3.9.6"
  }
 },
 "nbformat": 4,
 "nbformat_minor": 5
}
